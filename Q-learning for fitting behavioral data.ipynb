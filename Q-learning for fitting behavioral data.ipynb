{
 "cells": [
  {
   "cell_type": "code",
   "execution_count": 1,
   "id": "057d165d",
   "metadata": {},
   "outputs": [],
   "source": [
    "import pandas as pd\n",
    "import os\n",
    "import numpy as np\n",
    "import random\n",
    "import matplotlib.pyplot as plt\n",
    "from scipy.integrate import odeint\n",
    "from scipy.optimize import minimize\n",
    "import math\n",
    "import pingouin as pg"
   ]
  },
  {
   "cell_type": "code",
   "execution_count": null,
   "id": "bbf52ad0",
   "metadata": {},
   "outputs": [],
   "source": []
  },
  {
   "cell_type": "code",
   "execution_count": 2,
   "id": "06b19688",
   "metadata": {},
   "outputs": [],
   "source": [
    "# creating a list of the names of excel files \n",
    "\n",
    "High_DirList_L = os.listdir(r'E:\\Mina Analysis\\Reverse-HIGH')\n",
    "Low_DirList_L = os.listdir(r'E:\\Mina Analysis\\Reverse-LOW')\n",
    "High_DirList_R = os.listdir(r'E:\\Mina Analysis\\high alexithymia')\n",
    "Low_DirList_R = os.listdir(r'E:\\Mina Analysis\\low alexithymia')\n",
    "\n",
    "\n",
    "\n",
    "\n",
    "\n",
    "# Associate each excel file with its address in order to read them\n",
    "High_List_R = []\n",
    "Low_List_R = []\n",
    "High_List_L = []\n",
    "Low_List_L = []\n",
    "\n",
    "for i in range (len(High_DirList_R)):\n",
    "    if High_DirList_R[i][-4:] == '.csv':\n",
    "        High_List_R.append(\"E:\\Mina Analysis\\high alexithymia\\\\\" + High_DirList_R[i])\n",
    "for i in range (len(Low_DirList_R)):\n",
    "    if Low_DirList_R[i][-4:] == '.csv':\n",
    "        Low_List_R.append('E:\\Mina Analysis\\low alexithymia\\\\' + Low_DirList_R[i])\n",
    "\n",
    "for i in range (len(High_DirList_L)):\n",
    "    if High_DirList_L[i][-4:] == '.csv':\n",
    "        High_List_L.append('E:\\Mina Analysis\\Reverse-HIGH\\\\' + High_DirList_L[i])\n",
    "for i in range (len(Low_DirList_L)):\n",
    "    if Low_DirList_L[i][-4:] == '.csv':\n",
    "        Low_List_L.append('E:\\Mina Analysis\\Reverse-LOW\\\\' + Low_DirList_L[i])\n",
    "        \n",
    "        \n",
    "        \n",
    "        \n",
    "        \n",
    "        \n",
    "        \n",
    "        \n",
    "# Reading excel files and importing them in lists \n",
    "\n",
    "List_H_L = [[] for i in range (len(High_List_L))]\n",
    "List_L_L = [[] for i in range (len(Low_List_L))]\n",
    "List_H_R = [[] for i in range (len(High_List_R))]\n",
    "List_L_R = [[] for i in range (len(Low_List_R))]\n",
    "\n",
    "for i in range(len(High_List_R)):\n",
    "    List_H_R[i] = pd.read_csv(High_List_R[i])\n",
    "for i in range(len(Low_List_R)):\n",
    "    List_L_R[i] = pd.read_csv(Low_List_R[i])\n",
    "for i in range(len(High_List_L)):\n",
    "    List_H_L[i] = pd.read_csv(High_List_L[i])\n",
    "for i in range(len(Low_List_L)):\n",
    "    List_L_L[i] = pd.read_csv(Low_List_L[i])\n",
    "    \n",
    "    \n",
    "    \n",
    "    \n",
    "    \n",
    "\n",
    "# Reshaping data to get the needed format\n",
    "    \n",
    "def FeedBack(List):\n",
    "    Video = List['Video Feedback'][0].lower()\n",
    "    Caption = List['Caption Feedback'][0].lower()\n",
    "    Random = List['Random Feedback'][0].lower()\n",
    "    \n",
    "    No1 = []\n",
    "    No2 = []\n",
    "    No3 = []\n",
    "    \n",
    "    for i in range(len(List['Video File'])):\n",
    "        if i != len(List['Video File']) - 1:\n",
    "            if i != 0:\n",
    "                if List['Video File'][i][0:5] == Video[0:5]:\n",
    "                    No1.append([])\n",
    "                    No1[-1].append(List['Correct Emotion'][i])\n",
    "                    No1[-1].append(List['key_resp.keys'][i])\n",
    "                    No1[-1].append(List['Answer T/F'][i])\n",
    "\n",
    "                elif List['Video File'][i][0:5] == Caption[0:5]:\n",
    "                    No2.append([])\n",
    "                    No2[-1].append(List['Correct Emotion'][i])\n",
    "                    No2[-1].append(List['key_resp.keys'][i])\n",
    "                    No2[-1].append(List['Answer T/F'][i])\n",
    "\n",
    "                elif List['Video File'][i][0:5] == Random[0:5]:\n",
    "                    No3.append([])\n",
    "                    No3[-1].append(List['Correct Emotion'][i])\n",
    "                    No3[-1].append(List['key_resp.keys'][i])\n",
    "                    No3[-1].append(List['Answer T/F'][i])\n",
    "\n",
    "    Final = No1 + No2 + No3\n",
    "    return Final\n",
    "    \n",
    "    \n",
    "    \n",
    "    \n",
    "    \n",
    "    \n",
    "    \n",
    "    \n",
    "# Assocciating 0 and 1 to the feedbacks participants see \n",
    "    \n",
    "    \n",
    "def TRUE_FALSE_R(Right):\n",
    "    TF_List = [[] for i in range(len(Right))]\n",
    "    for i in range(len(Right)):\n",
    "        if Right[i][0] == 'Sad':\n",
    "            if Right[i][1] == 'left':\n",
    "                TF_List[i] = 1\n",
    "            else :\n",
    "                TF_List[i] = 0               \n",
    "        if Right[i][0] == 'Happy':\n",
    "            if Right[i][1] == 'right':\n",
    "                TF_List[i] = 1\n",
    "            else :\n",
    "                TF_List[i] = 0\n",
    "    return TF_List\n",
    "\n",
    "\n",
    "\n",
    "\n",
    "\n",
    "def TRUE_FALSE_L(Left):\n",
    "    TF_List = [[] for i in range(len(Left))]\n",
    "    for i in range(len(Left)):\n",
    "        if Left[i][0] == 'Sad':\n",
    "            if Left[i][1] == 'right':\n",
    "                TF_List[i] = 1\n",
    "            else :\n",
    "                TF_List[i] = 0       \n",
    "        if Left[i][0] == 'Happy':\n",
    "            if Left[i][1] == 'left':\n",
    "                TF_List[i] = 1\n",
    "            else :\n",
    "                TF_List[i] = 0\n",
    "    return TF_List\n",
    "\n",
    "\n",
    "\n",
    "# Organizing data by functions defined above\n",
    "\n",
    "Number = len(List_H_L) + len(List_L_L) + len(List_H_R) + len(List_L_R)\n",
    "High_Number = len(List_H_L) + len(List_H_R)\n",
    "Low_Number = len(List_L_L) + len(List_L_R)\n",
    "High_01_R = [[] for i in range(len(List_H_R))]\n",
    "Low_01_R = [[] for i in range(len(List_L_R))]\n",
    "High_01_L = [[] for i in range(len(List_H_L))]\n",
    "Low_01_L = [[] for i in range(len(List_L_L))]\n",
    "Videos = []\n",
    "\n",
    "\n",
    "\n",
    "for i in range(len(List_H_R)):\n",
    "    LL = FeedBack(List_H_R[i])\n",
    "    High_01_R[i] = LL\n",
    "\n",
    "for i in range(len(List_H_L)):\n",
    "    LL = FeedBack(List_H_L[i])\n",
    "    High_01_L[i] = LL\n",
    "\n",
    "for i in range(len(List_L_R)):\n",
    "    LL = FeedBack(List_L_R[i])\n",
    "    Low_01_R[i] = LL\n",
    "\n",
    "for i in range(len(List_L_L)):\n",
    "    LL = FeedBack(List_L_L[i])\n",
    "    Low_01_L[i] = LL\n",
    "    \n",
    "    \n",
    "    \n",
    "    \n",
    "High_01 = []\n",
    "Low_01 = []\n",
    "\n",
    "\n",
    "\n",
    "\n",
    "\n",
    "for i in range(len(High_01_R)):\n",
    "    High_01.append(TRUE_FALSE_R(High_01_R[i]))\n",
    "for i in range(len(High_01_L)):\n",
    "    High_01.append(TRUE_FALSE_L(High_01_L[i]))\n",
    "    \n",
    "for i in range(len(Low_01_R)):\n",
    "    Low_01.append(TRUE_FALSE_R(Low_01_R[i]))\n",
    "for i in range(len(Low_01_L)):\n",
    "    Low_01.append(TRUE_FALSE_L(Low_01_L[i]))"
   ]
  },
  {
   "cell_type": "code",
   "execution_count": 3,
   "id": "c3c0c437-5200-41e1-9370-6967b215dedf",
   "metadata": {},
   "outputs": [
    {
     "data": {
      "text/plain": [
       "['E:\\\\Mina Analysis\\\\Reverse-LOW\\\\1962_untitled_2023-07-13_13h01.09.166.csv',\n",
       " 'E:\\\\Mina Analysis\\\\Reverse-LOW\\\\3345_untitled_2023-07-17_14h58.17.664.csv',\n",
       " 'E:\\\\Mina Analysis\\\\Reverse-LOW\\\\3382_untitled_2023-10-18_08h56.27.660.csv',\n",
       " 'E:\\\\Mina Analysis\\\\Reverse-LOW\\\\4231_untitled_2023-06-21_10h09.47.996.csv',\n",
       " 'E:\\\\Mina Analysis\\\\Reverse-LOW\\\\4590_untitled_2023-07-17_10h40.45.607.csv',\n",
       " 'E:\\\\Mina Analysis\\\\Reverse-LOW\\\\4604_untitled_2023-07-11_18h29.34.957.csv',\n",
       " 'E:\\\\Mina Analysis\\\\Reverse-LOW\\\\4877_untitled_2023-10-19_13h09.42.866.csv',\n",
       " 'E:\\\\Mina Analysis\\\\Reverse-LOW\\\\5659_untitled_2023-10-01_11h02.00.606.csv',\n",
       " 'E:\\\\Mina Analysis\\\\Reverse-LOW\\\\5718_untitled_2023-09-04_16h15.50.431.csv',\n",
       " 'E:\\\\Mina Analysis\\\\Reverse-LOW\\\\5950_untitled_2023-09-12_12h22.19.566.csv',\n",
       " 'E:\\\\Mina Analysis\\\\Reverse-LOW\\\\6018_untitled_2023-10-17_13h05.13.021.csv',\n",
       " 'E:\\\\Mina Analysis\\\\Reverse-LOW\\\\6745_untitled_2023-09-28_13h03.51.348.csv',\n",
       " 'E:\\\\Mina Analysis\\\\Reverse-LOW\\\\7345_untitled_2023-06-13_17h27.19.771.csv',\n",
       " 'E:\\\\Mina Analysis\\\\Reverse-LOW\\\\7870_untitled_2023-06-25_14h49.19.861.csv',\n",
       " 'E:\\\\Mina Analysis\\\\Reverse-LOW\\\\8178_untitled_2023-08-31_10h03.01.317.csv',\n",
       " 'E:\\\\Mina Analysis\\\\Reverse-LOW\\\\9371_untitled_2023-06-13_10h25.38.647.csv']"
      ]
     },
     "execution_count": 3,
     "metadata": {},
     "output_type": "execute_result"
    }
   ],
   "source": [
    "High_List_R\n",
    "Low_List_R \n",
    "High_List_L \n",
    "Low_List_L \n",
    "\n"
   ]
  },
  {
   "cell_type": "code",
   "execution_count": 4,
   "id": "75cad7ea",
   "metadata": {},
   "outputs": [],
   "source": [
    "Total = High_01 + Low_01\n"
   ]
  },
  {
   "cell_type": "code",
   "execution_count": 5,
   "id": "b5bc9032",
   "metadata": {},
   "outputs": [
    {
     "name": "stdout",
     "output_type": "stream",
     "text": [
      "2304\n",
      "4608\n",
      "6624\n"
     ]
    }
   ],
   "source": [
    "# Defining a list to distinguish right and wrong feedbacks\n",
    "# This is because in reincforcement learning we need to know if the participants utilize correct cue and see false feedback\n",
    "\n",
    "feedback_true_flase = []\n",
    "\n",
    "for i in range (len(High_01_L)):\n",
    "    for j in range(len(High_01_L[i])):\n",
    "        feedback_true_flase.append(High_01_L[i][j][2])\n",
    "print(len(feedback_true_flase))\n",
    "for i in range (len(Low_01_L)):\n",
    "    for j in range(len(Low_01_L[i])):\n",
    "        feedback_true_flase.append(Low_01_L[i][j][2])\n",
    "print(len(feedback_true_flase))\n",
    "for i in range (len(High_01_R)):\n",
    "    for j in range(len(High_01_R[i])):\n",
    "        feedback_true_flase.append(High_01_R[i][j][2])\n",
    "print(len(feedback_true_flase))\n",
    "for i in range (len(Low_01_R)):\n",
    "    for j in range(len(Low_01_R[i])):\n",
    "        feedback_true_flase.append(Low_01_R[i][j][2])\n"
   ]
  },
  {
   "cell_type": "code",
   "execution_count": 6,
   "id": "314d2b88",
   "metadata": {},
   "outputs": [],
   "source": [
    "L = int(len(feedback_true_flase)/144)\n",
    "\n",
    "# Sepereating feedback_true_flase list for each participant\n",
    "Sep_TF = [[] for i in range(L)]\n",
    "\n",
    "for i in range(L):\n",
    "    for j in range(144):\n",
    "        N = (i) * 144\n",
    "        Sep_TF[i].append(feedback_true_flase[N+j])"
   ]
  },
  {
   "cell_type": "code",
   "execution_count": null,
   "id": "43a23618",
   "metadata": {},
   "outputs": [],
   "source": []
  },
  {
   "cell_type": "code",
   "execution_count": 7,
   "id": "b6c4ff98",
   "metadata": {
    "scrolled": true
   },
   "outputs": [
    {
     "data": {
      "text/plain": [
       "60"
      ]
     },
     "execution_count": 7,
     "metadata": {},
     "output_type": "execute_result"
    }
   ],
   "source": [
    "len(Sep_TF)"
   ]
  },
  {
   "cell_type": "code",
   "execution_count": 7,
   "id": "f12e47e0",
   "metadata": {},
   "outputs": [],
   "source": [
    "# These functions update our value of each cue sepereately\n",
    "# Here r is the feedback participant encounter for each response \n",
    "\n",
    "def Update_Vis(r,V_Vis,Alpha_Vis,Gamma):\n",
    "    \n",
    "    Delta = r-V_Vis\n",
    "    Value = Gamma*V_Vis + Alpha_Vis * Delta\n",
    "    \n",
    "    \n",
    "    return Value\n",
    "\n",
    "def Update_Cap(r,V_Cap,Alpha_Cap,Gamma):\n",
    "    \n",
    "    Delta = r-V_Cap\n",
    "    Value = Gamma*V_Cap + Alpha_Cap * Delta\n",
    "        \n",
    "    return Value\n"
   ]
  },
  {
   "cell_type": "code",
   "execution_count": 8,
   "id": "4914c0ce",
   "metadata": {},
   "outputs": [],
   "source": [
    "# This determines the probability that participant employs when decides to use visual cue\n",
    "# The probability depends on Value of visual and caption cues in each condition\n",
    "\n",
    "def Choice_Vis(Beta_Vis, V_Vis, V_Cap):\n",
    "    \n",
    "    Prob = np.exp(Beta_Vis * V_Vis)/(np.exp(Beta_Vis * V_Vis) + np.exp(Beta_Vis * V_Cap))\n",
    "    \n",
    "    \n",
    "    return Prob\n",
    "    "
   ]
  },
  {
   "cell_type": "code",
   "execution_count": 9,
   "id": "0f00e3a9",
   "metadata": {},
   "outputs": [],
   "source": [
    "#Same as above function but this time for caption cue\n",
    "\n",
    "def Choice_Cap(Beta_Cap, V_Vis, V_Cap):\n",
    "    \n",
    "    Prob = np.exp(Beta_Cap * V_Cap)/(np.exp(Beta_Cap * V_Vis) + np.exp(Beta_Cap * V_Cap))\n",
    "    \n",
    "    \n",
    "    return Prob\n",
    "    "
   ]
  },
  {
   "cell_type": "code",
   "execution_count": 10,
   "id": "940730a7",
   "metadata": {},
   "outputs": [],
   "source": [
    "# Here we employ above functions to create our objective function\n",
    "# This objective function is for estimating reinforcement learning parameter\n",
    "# p is a list includes alpha 1 and aplpha 2 which are learning rates for visual and caption and also betas for caption and visual\n",
    "# other Lists or variables are defined globally, which in a loop furthur exist\n",
    "def Obj(p):\n",
    "    \n",
    "    \n",
    "    value_visual_condition_1 = 0.5\n",
    "    value_caption_condition_1 = 0.5\n",
    "    value_visual_condition_2 = 0.5\n",
    "    value_caption_condition_2 = 0.5\n",
    "    \n",
    "    Reward = []\n",
    "    Main_Rew = []\n",
    "    \n",
    "    for i in range(len(R0)):\n",
    "       \n",
    "        if i < 48:\n",
    "\n",
    "            if R0[i] == 1:\n",
    "                if RW[i] == 'T':\n",
    "                    R = Choice_Vis(p[2],value_visual_condition_1,value_caption_condition_1)\n",
    "                    Reward.append(R)\n",
    "                    Main_Rew.append(R0[i])\n",
    "                    value_visual_condition_1 = Update_Vis(R0[i],value_visual_condition_1,p[0],Ga)\n",
    "                elif RW[i] == 'F':\n",
    "                    R = Choice_Cap(p[3],value_visual_condition_1,value_caption_condition_1)\n",
    "                    Reward.append(R)\n",
    "                    Main_Rew.append(R0[i])\n",
    "                    value_caption_condition_1 = Update_Cap(R0[i],value_caption_condition_1,p[1],Ga)  \n",
    "\n",
    "            elif R0[i] == 0:\n",
    "                if RW[i] == 'T':\n",
    "                    R = Choice_Cap(p[3],value_visual_condition_1,value_caption_condition_1)\n",
    "                    Reward.append(R)\n",
    "                    Main_Rew.append(R0[i])\n",
    "                    value_caption_condition_1 = Update_Cap(R0[i],value_caption_condition_1,p[1],Ga)  \n",
    "\n",
    "                elif RW[i] == 'F':\n",
    "                    R = Choice_Vis(p[2],value_visual_condition_1,value_caption_condition_1)\n",
    "                    Reward.append(R)\n",
    "                    Main_Rew.append(R0[i])\n",
    "                    value_visual_condition_1 = Update_Vis(R0[i],value_visual_condition_1,p[0],Ga)\n",
    "\n",
    "\n",
    "\n",
    "\n",
    "                    \n",
    "                    \n",
    "                    \n",
    "        elif i < 96:\n",
    "\n",
    "\n",
    "            if R0[i] == 1:\n",
    "                if RW[i] == 'T':\n",
    "                    R = Choice_Cap(p[3],value_visual_condition_2,value_caption_condition_2)\n",
    "                    Reward.append(R)\n",
    "                    Main_Rew.append(R0[i])\n",
    "                    value_caption_condition_2 = Update_Cap(R0[i],value_caption_condition_2,p[1],Ga)\n",
    "                elif RW[i] == 'F':\n",
    "                    R = Choice_Vis(p[2],value_visual_condition_2,value_caption_condition_2)\n",
    "                    Reward.append(R)\n",
    "                    Main_Rew.append(R0[i])\n",
    "                    value_visual_condition_2 = Update_Vis(R0[i],value_visual_condition_2,p[0],Ga)  \n",
    "\n",
    "            if R0[i] == 0:\n",
    "                if RW[i] == 'T':\n",
    "                    R = Choice_Vis(p[2],value_visual_condition_2,value_caption_condition_2)\n",
    "                    Reward.append(R)\n",
    "                    Main_Rew.append(R0[i])\n",
    "                    value_visual_condition_2 = Update_Vis(R0[i],value_visual_condition_2,p[0],Ga)  \n",
    "\n",
    "                elif RW[i] == 'F':\n",
    "                    R = Choice_Cap(p[3],value_visual_condition_2,value_caption_condition_2)\n",
    "                    Reward.append(R)\n",
    "                    Main_Rew.append(R0[i])\n",
    "                    value_caption_condition_2 = Update_Cap(R0[i],value_caption_condition_2,p[1],Ga)\n",
    "\n",
    "\n",
    "\n",
    "            \n",
    "\n",
    "    \n",
    "    Def = 0\n",
    "    for i in range(len(Reward)):\n",
    "        Def -= (Main_Rew[i]*np.log(Reward[i]) + (1-Main_Rew[i])*np.log(1-Reward[i]))\n",
    "    \n",
    "    Cost_Function = Def/len(Reward)\n",
    "\n",
    "    return Cost_Function"
   ]
  },
  {
   "cell_type": "code",
   "execution_count": null,
   "id": "7ba1fd5c",
   "metadata": {},
   "outputs": [],
   "source": []
  },
  {
   "cell_type": "code",
   "execution_count": 75,
   "id": "49f31a23",
   "metadata": {},
   "outputs": [],
   "source": [
    "# Hwew we minimize our obj functions\n",
    "\n",
    "Solution_List = [[[[[]for g in range(11)] for z in range(3)] for j in range(10)] for i in range(len(Total))]\n",
    "\n",
    "for i in range(len(Total)):\n",
    "    for j in range(1,11):\n",
    "        for z in range(3):\n",
    "            for g in range(0,11):\n",
    "                p0 = [(1+z)/4,(1+z)/4,j,j]\n",
    "                band = ((0,1),(0,1),(1,10),(1,10))\n",
    "                Ga = g/10\n",
    "                R0 = Total[i]\n",
    "                RW = Sep_TF[i]\n",
    "                solution = minimize(Obj,p0,method='SLSQP',bounds=band)\n",
    "                p = solution.x\n",
    "                Solution_List[i][j-1][z][g].append(p)\n",
    "                Solution_List[i][j-1][z][g] = np.append(Solution_List[i][j-1][z][g],Ga)"
   ]
  },
  {
   "cell_type": "code",
   "execution_count": 78,
   "id": "17abfbd2",
   "metadata": {},
   "outputs": [
    {
     "data": {
      "text/plain": [
       "60"
      ]
     },
     "execution_count": 78,
     "metadata": {},
     "output_type": "execute_result"
    }
   ],
   "source": [
    "len(Solution_List)"
   ]
  },
  {
   "cell_type": "code",
   "execution_count": 57,
   "id": "3e7b36e6",
   "metadata": {},
   "outputs": [
    {
     "ename": "TypeError",
     "evalue": "'float' object is not subscriptable",
     "output_type": "error",
     "traceback": [
      "\u001b[1;31m---------------------------------------------------------------------------\u001b[0m",
      "\u001b[1;31mTypeError\u001b[0m                                 Traceback (most recent call last)",
      "Cell \u001b[1;32mIn[57], line 11\u001b[0m\n\u001b[0;32m      9\u001b[0m \u001b[38;5;28;01mfor\u001b[39;00m j \u001b[38;5;129;01min\u001b[39;00m \u001b[38;5;28mrange\u001b[39m(\u001b[38;5;28mlen\u001b[39m(Solution_List[\u001b[38;5;241m0\u001b[39m])):\n\u001b[0;32m     10\u001b[0m     \u001b[38;5;28;01mfor\u001b[39;00m z \u001b[38;5;129;01min\u001b[39;00m \u001b[38;5;28mrange\u001b[39m(\u001b[38;5;28mlen\u001b[39m(Solution_List)):\n\u001b[1;32m---> 11\u001b[0m         Ob \u001b[38;5;241m=\u001b[39m \u001b[43mObj\u001b[49m\u001b[43m(\u001b[49m\u001b[43mSolution_List\u001b[49m\u001b[43m[\u001b[49m\u001b[43mz\u001b[49m\u001b[43m]\u001b[49m\u001b[43m[\u001b[49m\u001b[43mj\u001b[49m\u001b[43m]\u001b[49m\u001b[43m[\u001b[49m\u001b[43mi\u001b[49m\u001b[43m]\u001b[49m\u001b[43m[\u001b[49m\u001b[43mt\u001b[49m\u001b[43m]\u001b[49m\u001b[43m)\u001b[49m\n\u001b[0;32m     12\u001b[0m         Def_List[t]\u001b[38;5;241m.\u001b[39mappend(Ob)\n\u001b[0;32m     13\u001b[0m         array_List[t]\u001b[38;5;241m.\u001b[39mappend(Solution_List[z][j][i][t])\n",
      "Cell \u001b[1;32mIn[10], line 34\u001b[0m, in \u001b[0;36mObj\u001b[1;34m(p)\u001b[0m\n\u001b[0;32m     32\u001b[0m \u001b[38;5;28;01melif\u001b[39;00m R0[i] \u001b[38;5;241m==\u001b[39m \u001b[38;5;241m0\u001b[39m:\n\u001b[0;32m     33\u001b[0m     \u001b[38;5;28;01mif\u001b[39;00m RW[i] \u001b[38;5;241m==\u001b[39m \u001b[38;5;124m'\u001b[39m\u001b[38;5;124mT\u001b[39m\u001b[38;5;124m'\u001b[39m:\n\u001b[1;32m---> 34\u001b[0m         R \u001b[38;5;241m=\u001b[39m Choice_Cap(\u001b[43mp\u001b[49m\u001b[43m[\u001b[49m\u001b[38;5;241;43m3\u001b[39;49m\u001b[43m]\u001b[49m,value_visual_condition_1,value_caption_condition_1)\n\u001b[0;32m     35\u001b[0m         Reward\u001b[38;5;241m.\u001b[39mappend(R)\n\u001b[0;32m     36\u001b[0m         Main_Rew\u001b[38;5;241m.\u001b[39mappend(R0[i])\n",
      "\u001b[1;31mTypeError\u001b[0m: 'float' object is not subscriptable"
     ]
    }
   ],
   "source": [
    "### As we use different initials, Def_List is a list that the cost ,for each participant, different optimum solution for different initials \n",
    "    ### we are going to calculate each solution cost function and add to Def_List so we find out what is the minimum cost function for each solution\n",
    "    ### and use them for the rest of analysis\n",
    "    ### in array_List we add solurions (it is almost same as Solution_list)\n",
    "Def_List = [[] for i in range(len(Total))]\n",
    "array_List = [[] for i in range(len(Total))]\n",
    "for t in range(len(Solution_List[0][0][0])):\n",
    "    for i in range(len(Solution_List[0][0])):\n",
    "        for j in range(len(Solution_List[0])):\n",
    "            for z in range(len(Solution_List)):\n",
    "                Ob = Obj(Solution_List[z][j][i][t])\n",
    "                Def_List[t].append(Ob)\n",
    "                array_List[t].append(Solution_List[z][j][i][t])"
   ]
  },
  {
   "cell_type": "code",
   "execution_count": 108,
   "id": "c642ab47",
   "metadata": {},
   "outputs": [],
   "source": [
    "Def_List = [[] for i in range(len(Total))]\n",
    "array_List = [[] for i in range(len(Total))]\n",
    "\n",
    "for t in range(len(Solution_List[0][0][0])):\n",
    "    for i in range(len(Solution_List[0][0])):\n",
    "        for j in range(len(Solution_List[0])):\n",
    "            for z in range(len(Solution_List)):\n",
    "                No = Solution_List[z][j][i][t]\n",
    "                p0 = No[:4]\n",
    "                Ga = No[4]\n",
    "                R0 = Total[z]\n",
    "                RW = Sep_TF[z]\n",
    "                Ob = Obj(p0)\n",
    "                Def_List[z].append(Ob)\n",
    "                array_List[z].append(No)"
   ]
  },
  {
   "cell_type": "code",
   "execution_count": 109,
   "id": "8f4a71fa",
   "metadata": {},
   "outputs": [
    {
     "data": {
      "text/plain": [
       "array([0.40198659, 0.27141443, 5.93980653, 5.54101342])"
      ]
     },
     "execution_count": 109,
     "metadata": {},
     "output_type": "execute_result"
    }
   ],
   "source": [
    "Solution_List[0][0][0][0][0:4]"
   ]
  },
  {
   "cell_type": "code",
   "execution_count": null,
   "id": "b4ac8f88",
   "metadata": {},
   "outputs": [],
   "source": []
  },
  {
   "cell_type": "code",
   "execution_count": 110,
   "id": "d1deeae3",
   "metadata": {},
   "outputs": [
    {
     "name": "stdout",
     "output_type": "stream",
     "text": [
      "0\n",
      "1\n",
      "2\n",
      "3\n",
      "4\n",
      "5\n",
      "6\n",
      "7\n",
      "8\n",
      "9\n",
      "10\n",
      "11\n",
      "12\n",
      "13\n",
      "14\n",
      "15\n",
      "16\n",
      "17\n",
      "18\n",
      "19\n",
      "20\n",
      "21\n",
      "22\n",
      "23\n",
      "24\n",
      "25\n",
      "26\n",
      "27\n",
      "28\n",
      "29\n",
      "30\n",
      "31\n",
      "32\n",
      "33\n",
      "34\n",
      "35\n",
      "36\n",
      "37\n",
      "38\n",
      "39\n",
      "40\n",
      "41\n",
      "42\n",
      "43\n",
      "44\n",
      "45\n",
      "46\n",
      "47\n",
      "48\n",
      "49\n",
      "50\n",
      "51\n",
      "52\n",
      "53\n",
      "54\n",
      "55\n",
      "56\n",
      "57\n",
      "58\n",
      "59\n"
     ]
    }
   ],
   "source": [
    "#Now we determine miimum cost function for each participants' variables with different initials\n",
    "\n",
    "List_Min = []\n",
    "\n",
    "for i in range(len(Def_List)):\n",
    "    print(i)\n",
    "    List_Min.append(Def_List[i].index(min(Def_List[i])))\n",
    "\n"
   ]
  },
  {
   "cell_type": "code",
   "execution_count": 111,
   "id": "c3ecb28c",
   "metadata": {},
   "outputs": [],
   "source": [
    "# Here we import minimums for each participants in our Solution_List_Result\n",
    "\n",
    "Solution_List_Result = []\n",
    "for j in range(len(array_List)):\n",
    "    Solution_List_Result.append(array_List[j][List_Min[j]])"
   ]
  },
  {
   "cell_type": "code",
   "execution_count": 112,
   "id": "adcfa441",
   "metadata": {},
   "outputs": [
    {
     "name": "stdout",
     "output_type": "stream",
     "text": [
      "60\n"
     ]
    }
   ],
   "source": [
    "print(len(Solution_List_Result))"
   ]
  },
  {
   "cell_type": "code",
   "execution_count": 113,
   "id": "af60056c",
   "metadata": {},
   "outputs": [
    {
     "data": {
      "text/plain": [
       "60"
      ]
     },
     "execution_count": 113,
     "metadata": {},
     "output_type": "execute_result"
    }
   ],
   "source": [
    "len(array_List)"
   ]
  },
  {
   "cell_type": "code",
   "execution_count": 114,
   "id": "b26a3917",
   "metadata": {},
   "outputs": [],
   "source": [
    "# Seprating High and Lows to be in the same format of our analysis with pingouin\n",
    "Group = [1 for i in range(len(High_01))] + [2 for i in range(len(Low_01))]"
   ]
  },
  {
   "cell_type": "code",
   "execution_count": 115,
   "id": "0cd02821",
   "metadata": {},
   "outputs": [],
   "source": [
    "## add alpha_Vis to our list\n",
    "\n",
    "ALPHA_Vis = []\n",
    "for i in range(len(Total)):\n",
    "    ALPHA_Vis.append(Solution_List_Result[i][0])\n",
    "    \n",
    "## add alpha_cap to our list\n",
    "\n",
    "ALPHA_Cap = []\n",
    "\n",
    "for i in range(len(Total)):\n",
    "    ALPHA_Cap.append(Solution_List_Result[i][1])"
   ]
  },
  {
   "cell_type": "code",
   "execution_count": 116,
   "id": "462e0c33",
   "metadata": {},
   "outputs": [],
   "source": [
    "## add Beta_Vis to our list\n",
    "\n",
    "Beta_Vis = []\n",
    "for i in range(len(Total)):\n",
    "    Beta_Vis.append(Solution_List_Result[i][2])\n",
    "    \n",
    "## add Beta_cap to our list\n",
    "Beta_Cap = []\n",
    "\n",
    "for i in range(len(Total)):\n",
    "    Beta_Cap.append(Solution_List_Result[i][3])"
   ]
  },
  {
   "cell_type": "code",
   "execution_count": null,
   "id": "fcde13d0",
   "metadata": {},
   "outputs": [],
   "source": []
  },
  {
   "cell_type": "code",
   "execution_count": 117,
   "id": "e52e00dd",
   "metadata": {},
   "outputs": [],
   "source": [
    "Gamma = []\n",
    "for i in range(len(Total)):\n",
    "    Gamma.append(Solution_List_Result[i][4])\n",
    "    \n",
    "## Since Gamma is the same for both conditions, to create a "
   ]
  },
  {
   "cell_type": "code",
   "execution_count": 118,
   "id": "6cc23f99",
   "metadata": {},
   "outputs": [],
   "source": [
    "#Since we are going to analyze two different alphas, we double the group list\n",
    "Gp = Group"
   ]
  },
  {
   "cell_type": "code",
   "execution_count": 119,
   "id": "edb74ede",
   "metadata": {},
   "outputs": [],
   "source": [
    "Conditions = [1 for i in range(len(Total))] + [2 for i in range(len(Total))]"
   ]
  },
  {
   "cell_type": "code",
   "execution_count": 120,
   "id": "09c0c51f",
   "metadata": {},
   "outputs": [],
   "source": [
    "Participants = [(i+1) for i in range(len(Total))]"
   ]
  },
  {
   "cell_type": "code",
   "execution_count": 121,
   "id": "f2d9c405",
   "metadata": {},
   "outputs": [],
   "source": [
    "Data = list(zip(Participants,Gp,ALPHA_Vis,ALPHA_Cap,Beta_Vis,Beta_Cap,Gamma))"
   ]
  },
  {
   "cell_type": "code",
   "execution_count": 122,
   "id": "0585118f",
   "metadata": {},
   "outputs": [],
   "source": [
    "df = pd.DataFrame(Data,columns = [\"Participants\",\"Gp\",\"ALPHA_Vis\",\"ALPHA_Cap\",\"Beta_Vis\",\"Beta_Cap\",\"Gamma\"])"
   ]
  },
  {
   "cell_type": "code",
   "execution_count": null,
   "id": "d9a71728",
   "metadata": {},
   "outputs": [],
   "source": []
  },
  {
   "cell_type": "code",
   "execution_count": null,
   "id": "e1e00d46",
   "metadata": {
    "scrolled": true
   },
   "outputs": [],
   "source": []
  },
  {
   "cell_type": "code",
   "execution_count": null,
   "id": "99520042",
   "metadata": {},
   "outputs": [],
   "source": []
  },
  {
   "cell_type": "code",
   "execution_count": 124,
   "id": "6477f448",
   "metadata": {},
   "outputs": [],
   "source": [
    "# it's not related to our analysis this is just to see alphas average\n",
    "\n",
    "Mean_H_1 = 0\n",
    "Mean_L_1 = 0\n",
    "Mean_H_2 = 0\n",
    "Mean_L_2 = 0\n",
    "\n",
    "for i in range(len(High_01)):\n",
    "    Mean_H_1 += Solution_List_Result[i][0]\n",
    "    Mean_H_2 += Solution_List_Result[i][1]\n",
    "\n",
    "for i in range(len(Low_01)):\n",
    "    Mean_L_1 += Solution_List_Result[-i][0]\n",
    "    Mean_L_2 += Solution_List_Result[-i][1]\n",
    "\n",
    "Mean_H_1 = Mean_H_1/len(High_01)\n",
    "Mean_H_2 = Mean_H_2/len(High_01)\n",
    "Mean_L_1 = Mean_L_1/len(Low_01)\n",
    "Mean_L_2 = Mean_L_2/len(Low_01)"
   ]
  },
  {
   "cell_type": "code",
   "execution_count": 125,
   "id": "c97ada39",
   "metadata": {},
   "outputs": [
    {
     "name": "stdout",
     "output_type": "stream",
     "text": [
      "alpha visual High = 0.14058331808980776\n",
      "alpha visual Low = 0.19379949345796393\n",
      "alpha caption High = 0.14030160853744347\n",
      "alpha caption Low = 0.1504565844409538\n"
     ]
    }
   ],
   "source": [
    "print('alpha visual High = ' + str(Mean_H_1))\n",
    "print('alpha visual Low = ' + str(Mean_L_1))\n",
    "print('alpha caption High = ' + str(Mean_H_2))\n",
    "print('alpha caption Low = ' + str(Mean_L_2))"
   ]
  },
  {
   "cell_type": "code",
   "execution_count": null,
   "id": "9559d617",
   "metadata": {},
   "outputs": [],
   "source": []
  },
  {
   "cell_type": "code",
   "execution_count": null,
   "id": "4b69a303",
   "metadata": {},
   "outputs": [],
   "source": []
  },
  {
   "cell_type": "code",
   "execution_count": null,
   "id": "2b912858",
   "metadata": {},
   "outputs": [],
   "source": []
  },
  {
   "cell_type": "code",
   "execution_count": 126,
   "id": "550a451e",
   "metadata": {},
   "outputs": [
    {
     "name": "stdout",
     "output_type": "stream",
     "text": [
      "2.548894140504671\n",
      "2.6005537402175647\n"
     ]
    }
   ],
   "source": [
    "Beta = []\n",
    "for i in range(len(Total)):\n",
    "    Beta.append(Solution_List_Result[i][3])\n",
    "    \n",
    "Group_Beta = [1 for i in range(len(High_01))] + [2 for i in range(len(Low_01))]\n",
    "print(np.std(Beta[:len(High_01)]))\n",
    "print(np.std(Beta[len(High_01):]))"
   ]
  },
  {
   "cell_type": "code",
   "execution_count": 54,
   "id": "8a885829",
   "metadata": {},
   "outputs": [
    {
     "name": "stdout",
     "output_type": "stream",
     "text": [
      "               T  dof alternative    p-val          CI95%   cohen-d  BF10  \\\n",
      "T-test  0.869349   58   two-sided  0.38824  [-0.52, 1.31]  0.224465  0.36   \n",
      "\n",
      "          power  \n",
      "T-test  0.13703  \n"
     ]
    }
   ],
   "source": [
    "test_result = pg.ttest(Beta[:len(High_01)], Beta[len(High_01):], paired=False)\n",
    "print(test_result)"
   ]
  },
  {
   "cell_type": "code",
   "execution_count": null,
   "id": "63a0eb21",
   "metadata": {},
   "outputs": [],
   "source": []
  },
  {
   "cell_type": "code",
   "execution_count": 127,
   "id": "37891b30",
   "metadata": {},
   "outputs": [],
   "source": [
    "df.to_excel(r'E:\\Mina Analysis\\Final RL Mina.xlsx')"
   ]
  },
  {
   "cell_type": "code",
   "execution_count": null,
   "id": "26d27890",
   "metadata": {},
   "outputs": [],
   "source": []
  },
  {
   "cell_type": "code",
   "execution_count": null,
   "id": "a503fb43",
   "metadata": {},
   "outputs": [],
   "source": [
    "Gamma = []\n",
    "for i in range(len(Total)):\n",
    "    Gamma.append(Solution_List_Result[i][0])\n",
    "    \n"
   ]
  },
  {
   "cell_type": "code",
   "execution_count": null,
   "id": "90fb7e5c",
   "metadata": {},
   "outputs": [],
   "source": [
    "test_result = pg.ttest(Gamma[:len(High_01)], Gamma[len(High_01):], paired=False)\n",
    "print(test_result)"
   ]
  },
  {
   "cell_type": "code",
   "execution_count": 20,
   "id": "8bc993f8",
   "metadata": {},
   "outputs": [
    {
     "ename": "NameError",
     "evalue": "name 'df' is not defined",
     "output_type": "error",
     "traceback": [
      "\u001b[1;31m---------------------------------------------------------------------------\u001b[0m",
      "\u001b[1;31mNameError\u001b[0m                                 Traceback (most recent call last)",
      "Cell \u001b[1;32mIn[20], line 1\u001b[0m\n\u001b[1;32m----> 1\u001b[0m \u001b[43mdf\u001b[49m\u001b[38;5;241m.\u001b[39mto_excel(\u001b[38;5;124mr\u001b[39m\u001b[38;5;124m'\u001b[39m\u001b[38;5;124mE:\u001b[39m\u001b[38;5;124m\\\u001b[39m\u001b[38;5;124mMina Analysis\u001b[39m\u001b[38;5;124m\\\u001b[39m\u001b[38;5;124mFinal RL1.xlsx\u001b[39m\u001b[38;5;124m'\u001b[39m)\n",
      "\u001b[1;31mNameError\u001b[0m: name 'df' is not defined"
     ]
    }
   ],
   "source": [
    "df.to_excel(r'E:\\Mina Analysis\\Final RL1.xlsx')"
   ]
  },
  {
   "cell_type": "code",
   "execution_count": null,
   "id": "dcf88d99",
   "metadata": {},
   "outputs": [],
   "source": []
  },
  {
   "cell_type": "code",
   "execution_count": 138,
   "id": "8df87777",
   "metadata": {},
   "outputs": [],
   "source": [
    "B_No = [ i for i in range(10)]\n",
    "A_Vis_No = [i/10 for i in range(10)]\n",
    "A_Cap_No = [i/10 for i in range(10)]"
   ]
  },
  {
   "cell_type": "code",
   "execution_count": null,
   "id": "f5d5472c",
   "metadata": {},
   "outputs": [],
   "source": []
  },
  {
   "cell_type": "code",
   "execution_count": null,
   "id": "69958ae9",
   "metadata": {},
   "outputs": [],
   "source": []
  },
  {
   "cell_type": "code",
   "execution_count": null,
   "id": "c0c451eb",
   "metadata": {},
   "outputs": [],
   "source": []
  },
  {
   "cell_type": "code",
   "execution_count": null,
   "id": "edb2de63",
   "metadata": {},
   "outputs": [],
   "source": []
  },
  {
   "cell_type": "code",
   "execution_count": null,
   "id": "ebfad502",
   "metadata": {},
   "outputs": [],
   "source": []
  },
  {
   "cell_type": "code",
   "execution_count": null,
   "id": "60769afd",
   "metadata": {},
   "outputs": [],
   "source": []
  },
  {
   "cell_type": "markdown",
   "id": "30e494f9",
   "metadata": {},
   "source": [
    "# Augmented reinforcement learning\n"
   ]
  },
  {
   "cell_type": "code",
   "execution_count": 8,
   "id": "c2bd8532",
   "metadata": {},
   "outputs": [],
   "source": [
    "# In this RL analysis, for each condition, we update chosen, and non-chosen values. each of them have specific learning rate(Alpha)\n",
    "\n",
    "def Update_Chosen(r,V_Vis,Alpha_Chosen):\n",
    "    \n",
    "    Delta = r-V_Vis\n",
    "    Value = V_Vis + Alpha_Chosen * Delta\n",
    "    \n",
    "    \n",
    "    return Value\n",
    "\n",
    "def Update_Non_Chosen(r,V_Cap,Alpha_Non_Chosen):\n",
    "    \n",
    "    Delta = r-V_Cap\n",
    "    Value = V_Cap + Alpha_Non_Chosen * Delta\n",
    "        \n",
    "    return Value"
   ]
  },
  {
   "cell_type": "code",
   "execution_count": 9,
   "id": "e084ed8c",
   "metadata": {},
   "outputs": [],
   "source": [
    "# This is for caption cue condition\n",
    "def Update_Chosen_1(r,V_Vis,Alpha_Chosen_1):\n",
    "    \n",
    "    Delta = r-V_Vis\n",
    "    Value = V_Vis + Alpha_Chosen_1 * Delta\n",
    "    \n",
    "    \n",
    "    return Value\n",
    "\n",
    "def Update_Non_Chosen_1(r,V_Cap,Alpha_Non_Chosen_1):\n",
    "    \n",
    "    Delta = r-V_Cap\n",
    "    Value = V_Cap + Alpha_Non_Chosen_1 * Delta\n",
    "        \n",
    "    return Value"
   ]
  },
  {
   "cell_type": "code",
   "execution_count": 10,
   "id": "ffac9c81",
   "metadata": {},
   "outputs": [],
   "source": [
    "def Choice_Vis(Beta1, V_Vis, V_Cap):\n",
    "    \n",
    "    Prob = np.exp(Beta1 * V_Vis)/(np.exp(Beta1 * V_Vis) + np.exp(Beta1 * V_Cap))\n",
    "    \n",
    "    \n",
    "    return Prob\n",
    "    "
   ]
  },
  {
   "cell_type": "code",
   "execution_count": 24,
   "id": "e4382571",
   "metadata": {},
   "outputs": [],
   "source": [
    "def Choice_Cap(Beta2, V_Vis, V_Cap):\n",
    "    \n",
    "    Prob = np.exp(Beta2 * V_Cap)/(np.exp(Beta2 * V_Vis) + np.exp(Beta2 * V_Cap))\n",
    "    \n",
    "    \n",
    "    return Prob\n",
    "    "
   ]
  },
  {
   "cell_type": "code",
   "execution_count": 25,
   "id": "0eb4f7af",
   "metadata": {},
   "outputs": [],
   "source": [
    "def Obj(p):\n",
    "    \n",
    "    \n",
    "    Val_Vis_1 = 0.5#Chosen\n",
    "    Val_Cap_1 = 0.5#NonChosen\n",
    "    Val_Vis_2 = 0.5\n",
    "    Val_Cap_2 = 0.5\n",
    "    \n",
    "    Reward = []\n",
    "    Main_Rew = []\n",
    "    \n",
    "    for i in range(len(R0)):\n",
    "       \n",
    "        if i < 48:\n",
    "\n",
    "            if R0[i] == 1:\n",
    "                if RW[i] == 'T':\n",
    "                    R = Choice_Vis(p[2],Val_Vis_1,Val_Cap_1)\n",
    "                    Reward.append(R)\n",
    "                    Main_Rew.append(R0[i])\n",
    "                    Val_Vis_1 = Update_Chosen(R0[i],Val_Vis_1,p[0])\n",
    "                    Val_Cap_1 = Update_Non_Chosen((1-R0[i]),Val_Cap_1,p[1])\n",
    "                    \n",
    "                elif RW[i] == 'F':\n",
    "                    R = Choice_Cap(p[3],Val_Vis_1,Val_Cap_1)\n",
    "                    Reward.append(R)\n",
    "                    Main_Rew.append(R0[i])\n",
    "                    Val_Cap_1 = Update_Chosen(R0[i],Val_Cap_1,p[0])\n",
    "                    Val_Vis_1 = Update_Non_Chosen((1-R0[i]),Val_Vis_1,p[1])\n",
    "\n",
    "            elif R0[i] == 0:\n",
    "                if RW[i] == 'T':\n",
    "                    R = Choice_Cap(p[3],Val_Vis_1,Val_Cap_1)\n",
    "                    Reward.append(R)\n",
    "                    Main_Rew.append(R0[i])\n",
    "                    Val_Cap_1 = Update_Chosen(R0[i],Val_Cap_1,p[0])\n",
    "                    Val_Vis_1 = Update_Non_Chosen((1-R0[i]),Val_Vis_1,p[1])  \n",
    "                    \n",
    "                elif RW[i] == 'F':\n",
    "                    R = Choice_Vis(p[2],Val_Vis_1,Val_Cap_1)\n",
    "                    Reward.append(R)\n",
    "                    Main_Rew.append(R0[i])\n",
    "                    Val_Vis_1 = Update_Chosen(R0[i],Val_Vis_1,p[0])\n",
    "                    Val_Cap_1 = Update_Non_Chosen((1-R0[i]),Val_Cap_1,p[1])\n",
    "\n",
    "\n",
    "                    \n",
    "                    \n",
    "                    \n",
    "        elif i < 96:\n",
    "\n",
    "            if R0[i] == 1:\n",
    "                if RW[i] == 'T':\n",
    "                    R = Choice_Cap(p[3],Val_Vis_2,Val_Cap_2)\n",
    "                    Reward.append(R)\n",
    "                    Main_Rew.append(R0[i])\n",
    "                    Val_Cap_2 = Update_Chosen_1(R0[i],Val_Cap_2,p[4])\n",
    "                    Val_Vis_2 = Update_Non_Chosen_1((1-R0[i]),Val_Vis_2,p[5])\n",
    "                elif RW[i] == 'F':\n",
    "                    R = Choice_Vis(p[2],Val_Vis_2,Val_Cap_2)\n",
    "                    Reward.append(R)\n",
    "                    Main_Rew.append(R0[i])\n",
    "                    Val_Vis_2 = Update_Chosen(R0[i],Val_Vis_2,p[4])\n",
    "                    Val_Cap_2 = Update_Non_Chosen((1-R0[i]),Val_Cap_2,p[5])  \n",
    "                    \n",
    "            elif R0[i] == 0:\n",
    "                if RW[i] == 'T':\n",
    "                    R = Choice_Vis(p[2],Val_Vis_2,Val_Cap_2)\n",
    "                    Reward.append(R)\n",
    "                    Main_Rew.append(R0[i])\n",
    "                    Val_Vis_2 = Update_Chosen_1(R0[i],Val_Vis_2,p[4])\n",
    "                    Val_Cap_2 = Update_Non_Chosen_1((1-R0[i]),Val_Cap_2,p[5])  \n",
    "\n",
    "                elif RW[i] == 'F':\n",
    "                    R = Choice_Cap(p[3],Val_Vis_2,Val_Cap_2)\n",
    "                    Reward.append(R)\n",
    "                    Main_Rew.append(R0[i])\n",
    "                    Val_Cap_2 = Update_Chosen_1(R0[i],Val_Cap_2,p[4])\n",
    "                    Val_Vis_2 = Update_Non_Chosen_1((1-R0[i]),Val_Vis_2,p[5])\n",
    "\n",
    "\n",
    "\n",
    "\n",
    "#     print(Reward)\n",
    "#     print(Main_Rew)\n",
    "            \n",
    "\n",
    "    \n",
    "    Def = 0\n",
    "    for i in range(len(Reward)):\n",
    "        Def -= (Main_Rew[i]*np.log(Reward[i]) + (1-Main_Rew[i])*np.log(1-Reward[i]))\n",
    "    \n",
    "    Cost_Function = Def/len(Reward)\n",
    "#     print(Cost_Function)\n",
    "    return Cost_Function"
   ]
  },
  {
   "cell_type": "code",
   "execution_count": 46,
   "id": "83a1e7fe",
   "metadata": {},
   "outputs": [],
   "source": [
    "Solution_List_Aug = [[] for i in range(10)]\n",
    "\n",
    "for i in range(len(Total)):\n",
    "    for j in range(1,11):\n",
    "        p0 = [j/10,j/10,4,4,j/10,j/10]\n",
    "        band = ((0,1),(0,1),(1,10),(1,10),(0,1),(0,1))\n",
    "        R0 = Total[i]\n",
    "        RW = Sep_TF[i]\n",
    "        solution = minimize(Obj,p0,method='SLSQP',bounds=band)\n",
    "        p = solution.x\n",
    "        Solution_List_Aug[j-1].append(p)"
   ]
  },
  {
   "cell_type": "code",
   "execution_count": null,
   "id": "fb347e53-5648-4957-a8f5-9981d4d9e2b1",
   "metadata": {},
   "outputs": [],
   "source": []
  },
  {
   "cell_type": "code",
   "execution_count": 53,
   "id": "1ee02de9",
   "metadata": {},
   "outputs": [
    {
     "name": "stdout",
     "output_type": "stream",
     "text": [
      "Done\n"
     ]
    }
   ],
   "source": [
    "\n",
    "array_List = [[] for i in range(len(Total))]\n",
    "Def_List = [[] for i in range(len(Total))]\n",
    "for j in range(len(Total)):\n",
    "    for i in range(10):\n",
    "        No =Solution_List_Aug[i][j]\n",
    "        p0 = No\n",
    "        R0 = Total[j]\n",
    "        RW = Sep_TF[j]\n",
    "        Ob = Obj(p0)\n",
    "        Def_List[j].append(Ob)\n",
    "        array_List[j].append(No)\n",
    "print('Done')"
   ]
  },
  {
   "cell_type": "code",
   "execution_count": 55,
   "id": "bcb60094-51f2-4e06-8097-7074f69ce6e7",
   "metadata": {},
   "outputs": [
    {
     "data": {
      "text/plain": [
       "[0.4264467443753191,\n",
       " 0.42644818465396517,\n",
       " 0.42644632118849707,\n",
       " 0.4264460183370726,\n",
       " 0.42644623935876586,\n",
       " 0.4306944770976577,\n",
       " 0.4264460098584552,\n",
       " 0.426446449562714,\n",
       " 0.426446109016074,\n",
       " 0.4264460804759122]"
      ]
     },
     "execution_count": 55,
     "metadata": {},
     "output_type": "execute_result"
    }
   ],
   "source": [
    "Def_List[21]"
   ]
  },
  {
   "cell_type": "code",
   "execution_count": 57,
   "id": "b063b758-e694-466e-a92b-c9fc3d6ca74a",
   "metadata": {},
   "outputs": [],
   "source": [
    "List_Min = []\n",
    "\n",
    "for i in range(len(Def_List)):\n",
    "    # print(i)\n",
    "    List_Min.append(Def_List[i].index(min(Def_List[i])))"
   ]
  },
  {
   "cell_type": "code",
   "execution_count": 58,
   "id": "3373f0aa-bae0-4273-8aee-4b5bffe8dc55",
   "metadata": {},
   "outputs": [],
   "source": [
    "Solution_List_Result = []\n",
    "for j in range(len(array_List)):\n",
    "    Solution_List_Result.append(array_List[j][List_Min[j]])"
   ]
  },
  {
   "cell_type": "code",
   "execution_count": 79,
   "id": "fd0e8aef-a188-4b77-b2c6-c4eb0c159581",
   "metadata": {},
   "outputs": [],
   "source": [
    "ALPHA2 = []\n",
    "ALPHA1 = []\n",
    "for j in range(len(Total)):\n",
    "    ALPHA1.append(Solution_List_Result[j][0])\n",
    "    "
   ]
  },
  {
   "cell_type": "code",
   "execution_count": 80,
   "id": "b9d0c876",
   "metadata": {},
   "outputs": [],
   "source": [
    "for j in range(len(Total)):\n",
    "    ALPHA2.append(Solution_List_Result[j][1])"
   ]
  },
  {
   "cell_type": "code",
   "execution_count": 81,
   "id": "e335b49c",
   "metadata": {},
   "outputs": [],
   "source": [
    "for j in range(len(Total)):\n",
    "    ALPHA1.append(Solution_List_Result[j][4])"
   ]
  },
  {
   "cell_type": "code",
   "execution_count": 82,
   "id": "f8ba9c6c",
   "metadata": {},
   "outputs": [],
   "source": [
    "for j in range(len(Total)):\n",
    "    ALPHA2.append(Solution_List_Result[j][5])"
   ]
  },
  {
   "cell_type": "code",
   "execution_count": 83,
   "id": "b5a192e3-f0a7-496f-99f8-e7d8eeedd737",
   "metadata": {},
   "outputs": [
    {
     "data": {
      "text/plain": [
       "60"
      ]
     },
     "execution_count": 83,
     "metadata": {},
     "output_type": "execute_result"
    }
   ],
   "source": [
    "len(Solution_List_Result)"
   ]
  },
  {
   "cell_type": "code",
   "execution_count": 84,
   "id": "4e82b9af",
   "metadata": {},
   "outputs": [],
   "source": [
    "Group = [1 for i in range(len(High_01))]  + [2 for i in range(len(Low_01))] \n",
    "Gp = Group + Group "
   ]
  },
  {
   "cell_type": "code",
   "execution_count": 85,
   "id": "e80e849c",
   "metadata": {},
   "outputs": [],
   "source": [
    "Participants = [(i+1) for i in range(len(Total))] * 2"
   ]
  },
  {
   "cell_type": "code",
   "execution_count": 86,
   "id": "ad3ca9bb",
   "metadata": {},
   "outputs": [],
   "source": [
    "Conditions = [1 for i in range(len(Total))] + [2 for i in range(len(Total))]"
   ]
  },
  {
   "cell_type": "code",
   "execution_count": 87,
   "id": "4a5dded0",
   "metadata": {},
   "outputs": [],
   "source": [
    "Data = list(zip(Participants,Gp,Conditions,ALPHA1,ALPHA2))"
   ]
  },
  {
   "cell_type": "code",
   "execution_count": 88,
   "id": "1a4cc445",
   "metadata": {},
   "outputs": [],
   "source": [
    "df = pd.DataFrame(Data,columns = [\"Participants\", \"Groups\", \"Conditions\", \"Alpha1\",\"Alpha2\"])"
   ]
  },
  {
   "cell_type": "code",
   "execution_count": 90,
   "id": "9d1fd65e",
   "metadata": {},
   "outputs": [
    {
     "data": {
      "text/html": [
       "<div>\n",
       "<style scoped>\n",
       "    .dataframe tbody tr th:only-of-type {\n",
       "        vertical-align: middle;\n",
       "    }\n",
       "\n",
       "    .dataframe tbody tr th {\n",
       "        vertical-align: top;\n",
       "    }\n",
       "\n",
       "    .dataframe thead th {\n",
       "        text-align: right;\n",
       "    }\n",
       "</style>\n",
       "<table border=\"1\" class=\"dataframe\">\n",
       "  <thead>\n",
       "    <tr style=\"text-align: right;\">\n",
       "      <th></th>\n",
       "      <th>Source</th>\n",
       "      <th>SS</th>\n",
       "      <th>DF1</th>\n",
       "      <th>DF2</th>\n",
       "      <th>MS</th>\n",
       "      <th>F</th>\n",
       "      <th>p-unc</th>\n",
       "      <th>np2</th>\n",
       "      <th>eps</th>\n",
       "    </tr>\n",
       "  </thead>\n",
       "  <tbody>\n",
       "    <tr>\n",
       "      <th>0</th>\n",
       "      <td>Groups</td>\n",
       "      <td>0.013241</td>\n",
       "      <td>1</td>\n",
       "      <td>58</td>\n",
       "      <td>0.013241</td>\n",
       "      <td>0.720480</td>\n",
       "      <td>0.399476</td>\n",
       "      <td>0.012270</td>\n",
       "      <td>NaN</td>\n",
       "    </tr>\n",
       "    <tr>\n",
       "      <th>1</th>\n",
       "      <td>Conditions</td>\n",
       "      <td>0.032274</td>\n",
       "      <td>1</td>\n",
       "      <td>58</td>\n",
       "      <td>0.032274</td>\n",
       "      <td>2.301445</td>\n",
       "      <td>0.134686</td>\n",
       "      <td>0.038166</td>\n",
       "      <td>1.0</td>\n",
       "    </tr>\n",
       "    <tr>\n",
       "      <th>2</th>\n",
       "      <td>Interaction</td>\n",
       "      <td>0.002719</td>\n",
       "      <td>1</td>\n",
       "      <td>58</td>\n",
       "      <td>0.002719</td>\n",
       "      <td>0.193879</td>\n",
       "      <td>0.661344</td>\n",
       "      <td>0.003332</td>\n",
       "      <td>NaN</td>\n",
       "    </tr>\n",
       "  </tbody>\n",
       "</table>\n",
       "</div>"
      ],
      "text/plain": [
       "        Source        SS  DF1  DF2        MS         F     p-unc       np2  \\\n",
       "0       Groups  0.013241    1   58  0.013241  0.720480  0.399476  0.012270   \n",
       "1   Conditions  0.032274    1   58  0.032274  2.301445  0.134686  0.038166   \n",
       "2  Interaction  0.002719    1   58  0.002719  0.193879  0.661344  0.003332   \n",
       "\n",
       "   eps  \n",
       "0  NaN  \n",
       "1  1.0  \n",
       "2  NaN  "
      ]
     },
     "execution_count": 90,
     "metadata": {},
     "output_type": "execute_result"
    }
   ],
   "source": [
    "pg.mixed_anova(dv='Alpha2',between = 'Groups', within='Conditions' , subject='Participants', data=df)"
   ]
  },
  {
   "cell_type": "code",
   "execution_count": 25,
   "id": "2132787e",
   "metadata": {},
   "outputs": [],
   "source": [
    "df.to_excel(r'E:\\Mina Analysis\\Final RL Augmented.xlsx')"
   ]
  },
  {
   "cell_type": "code",
   "execution_count": null,
   "id": "6c272ef7",
   "metadata": {},
   "outputs": [],
   "source": []
  },
  {
   "cell_type": "code",
   "execution_count": null,
   "id": "f2bae98f",
   "metadata": {},
   "outputs": [],
   "source": []
  }
 ],
 "metadata": {
  "kernelspec": {
   "display_name": "Python 3 (ipykernel)",
   "language": "python",
   "name": "python3"
  },
  "language_info": {
   "codemirror_mode": {
    "name": "ipython",
    "version": 3
   },
   "file_extension": ".py",
   "mimetype": "text/x-python",
   "name": "python",
   "nbconvert_exporter": "python",
   "pygments_lexer": "ipython3",
   "version": "3.11.1"
  }
 },
 "nbformat": 4,
 "nbformat_minor": 5
}
